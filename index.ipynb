{
 "cells": [
  {
   "cell_type": "code",
   "execution_count": 6,
   "metadata": {},
   "outputs": [],
   "source": [
    "#| hide\n",
    "import nbdev"
   ]
  },
  {
   "cell_type": "code",
   "execution_count": 3,
   "metadata": {},
   "outputs": [],
   "source": [
    "from dji_thermal_sdk.dji_sdk import *\n",
    "import dji_thermal_sdk.dji_sdk as DJI\n",
    "import ctypes as CT\n",
    "from ctypes import *\n",
    "import os"
   ]
  },
  {
   "cell_type": "code",
   "execution_count": 4,
   "metadata": {},
   "outputs": [
    {
     "data": {
      "text/plain": [
       "'C:\\\\Users\\\\hxl170008\\\\Documents\\\\git_repo\\\\dji_thermal_sdk'"
      ]
     },
     "execution_count": 4,
     "metadata": {},
     "output_type": "execute_result"
    }
   ],
   "source": [
    "os.getcwd()"
   ]
  },
  {
   "cell_type": "markdown",
   "metadata": {},
   "source": [
    "# DJI Thermal SDK\n",
    "\n",
    "> use ctypes to capsulate the DJI Thermal SDK so that we can directly use python to process thermal images. "
   ]
  },
  {
   "cell_type": "markdown",
   "metadata": {},
   "source": [
    "This version of DJI Thermal SDK is 1.3, which was published on 05/15/2022"
   ]
  },
  {
   "cell_type": "markdown",
   "metadata": {},
   "source": [
    "## Install"
   ]
  },
  {
   "cell_type": "markdown",
   "metadata": {},
   "source": [
    "`pip install dji_thermal_sdk`"
   ]
  },
  {
   "cell_type": "markdown",
   "metadata": {},
   "source": [
    "## The package only can work on Windows System."
   ]
  },
  {
   "cell_type": "markdown",
   "metadata": {},
   "source": [
    "Normally, DJI SDK DLLs include `libdirp.dll, libv_dirp.dll, libv_girp.dll, libv_iirp.dll, libv_list.ini`.  \n",
    "\n",
    "DJI does not provide the library for Linux. Therefore, if you run the package on Linux,  python complier will pop out 'invalid ELF header' error."
   ]
  },
  {
   "cell_type": "markdown",
   "metadata": {},
   "source": [
    "## Get the handle of a R-JPEG image"
   ]
  },
  {
   "cell_type": "markdown",
   "metadata": {},
   "source": [
    "DIRP_HANDLE is a void pointer, and it has been definded.  \n",
    "you can get it by `package.DIRP_HANDLE`"
   ]
  },
  {
   "cell_type": "code",
   "execution_count": 7,
   "metadata": {},
   "outputs": [
    {
     "data": {
      "text/markdown": [
       "---\n",
       "\n",
       "### dirp_create_from_rjpeg\n",
       "\n",
       ">      dirp_create_from_rjpeg (data, size, ph)\n",
       "\n",
       "Parameters:\n",
       "    [in] data: R-JPEG binary data buffer pointer\n",
       "    [in] size: R-JPEG binary data buffer size in bytes\n",
       "    [out]ph  : DIRP API handle pointer \n",
       "        - reminder: use two-level pointer to assign value to one-level pointer\n",
       "Return:\n",
       "    int return code dirp_ret_code_e"
      ],
      "text/plain": [
       "---\n",
       "\n",
       "### dirp_create_from_rjpeg\n",
       "\n",
       ">      dirp_create_from_rjpeg (data, size, ph)\n",
       "\n",
       "Parameters:\n",
       "    [in] data: R-JPEG binary data buffer pointer\n",
       "    [in] size: R-JPEG binary data buffer size in bytes\n",
       "    [out]ph  : DIRP API handle pointer \n",
       "        - reminder: use two-level pointer to assign value to one-level pointer\n",
       "Return:\n",
       "    int return code dirp_ret_code_e"
      ]
     },
     "execution_count": 7,
     "metadata": {},
     "output_type": "execute_result"
    }
   ],
   "source": [
    "nbdev.show_doc(dirp_create_from_rjpeg)"
   ]
  },
  {
   "cell_type": "code",
   "execution_count": 8,
   "metadata": {},
   "outputs": [
    {
     "name": "stdout",
     "output_type": "stream",
     "text": [
      "1367428\n",
      "File size: 1367428\n",
      "File size: c_long(1367428)\n",
      "rjpeg_data: <ctypes.c_char_Array_1367428 object at 0x000001A936134540>\n",
      "ret = 0\n",
      "successfully get the r-jpeg handle.\n",
      "DIRP_HANDLE: c_void_p(1826234491888)  address: 0x1a9340ee3f0 \n"
     ]
    }
   ],
   "source": [
    "rd = r\"dataset\\Deer_Goats_Unsure.jpg\"\n",
    "with open(rd, 'rb') as f:\n",
    "    content = f.read()\n",
    "    print(len(content))\n",
    "# method1 to get the file size\n",
    "print(f\"File size: {os.path.getsize(rd)}\")\n",
    "# method 2 to get the file size\n",
    "file_stat = os.stat(rd)\n",
    "size = c_int32(file_stat.st_size)\n",
    "print(f\"File size: {size}\")\n",
    "\n",
    "# the method to create a string buffer, which is important.\n",
    "rjpeg_data = CT.create_string_buffer(len(content))\n",
    "rjpeg_data.value = content\n",
    "print(f\"rjpeg_data: {rjpeg_data}\")\n",
    "\n",
    "# test the function to create a handle of an image\n",
    "ret = dirp_create_from_rjpeg(rjpeg_data,size, CT.byref(DIRP_HANDLE))\n",
    "print(f'ret = {ret}')\n",
    "if ret == 0:\n",
    "    print(\"successfully get the r-jpeg handle.\")\n",
    "#\n",
    "print(f\"DIRP_HANDLE: {DIRP_HANDLE}  address: {hex(DIRP_HANDLE.value)} \")\n"
   ]
  },
  {
   "cell_type": "markdown",
   "metadata": {},
   "source": [
    "## Get the version of API"
   ]
  },
  {
   "cell_type": "code",
   "execution_count": null,
   "metadata": {},
   "outputs": [
    {
     "data": {
      "text/markdown": [
       "<h4 id=\"dirp_get_api_version\" class=\"doc_header\"><code>dirp_get_api_version</code><a href=\"https://github.com/lyuhaitao/dji_thermal_sdk/tree/master/dji_thermal_sdk/dji_sdk.py#L193\" class=\"source_link\" style=\"float:right\">[source]</a></h4>\n",
       "\n",
       "> <code>dirp_get_api_version</code>(**`version`**)\n",
       "\n",
       "Parameters:\n",
       "    [out] version DIRP API version information pointer\n",
       "Return:\n",
       "    int return code dirp_ret_code_e"
      ],
      "text/plain": [
       "<IPython.core.display.Markdown object>"
      ]
     },
     "metadata": {},
     "output_type": "display_data"
    }
   ],
   "source": [
    "nbdev.show_doc(dirp_get_api_version)"
   ]
  },
  {
   "cell_type": "code",
   "execution_count": null,
   "metadata": {},
   "outputs": [
    {
     "data": {
      "text/markdown": [
       "<h2 id=\"dirp_api_version_t\" class=\"doc_header\"><code>class</code> <code>dirp_api_version_t</code><a href=\"https://github.com/lyuhaitao/dji_thermal_sdk/tree/master/dji_thermal_sdk/dji_sdk.py#L68\" class=\"source_link\" style=\"float:right\">[source]</a></h2>\n",
       "\n",
       "> <code>dirp_api_version_t</code>() :: `Structure`\n",
       "\n",
       "API version structure definition"
      ],
      "text/plain": [
       "<IPython.core.display.Markdown object>"
      ]
     },
     "metadata": {},
     "output_type": "display_data"
    }
   ],
   "source": [
    "nbdev.show_doc(dirp_api_version_t)"
   ]
  },
  {
   "cell_type": "code",
   "execution_count": 9,
   "metadata": {},
   "outputs": [
    {
     "name": "stdout",
     "output_type": "stream",
     "text": [
      "Success\n",
      "jpeg_version.api: \t 19\n",
      "jpeg_version.magic: \t b'b85e4d3'\n"
     ]
    }
   ],
   "source": [
    "jpeg_version = dirp_api_version_t() \n",
    "ret = dirp_get_api_version(CT.byref(jpeg_version))\n",
    "if ret == DIRP_SUCCESS:\n",
    "    print(\"Success\")\n",
    "#\n",
    "print(f\"jpeg_version.api: \\t {jpeg_version.api}\")\n",
    "print(f\"jpeg_version.magic: \\t {jpeg_version.magic}\")\n"
   ]
  },
  {
   "cell_type": "markdown",
   "metadata": {},
   "source": [
    "## Get the version of DJI JPG"
   ]
  },
  {
   "cell_type": "code",
   "execution_count": 10,
   "metadata": {},
   "outputs": [
    {
     "data": {
      "text/markdown": [
       "---\n",
       "\n",
       "### dirp_get_rjpeg_version\n",
       "\n",
       ">      dirp_get_rjpeg_version (h, version)\n",
       "\n",
       "Get R-JPEG version.\n",
       "Parameters\n",
       "    [in]h:DIRP API handle\n",
       "    [out]version: R-JPEG version information pointer\n",
       "Returns\n",
       "    int return code dirp_ret_code_e"
      ],
      "text/plain": [
       "---\n",
       "\n",
       "### dirp_get_rjpeg_version\n",
       "\n",
       ">      dirp_get_rjpeg_version (h, version)\n",
       "\n",
       "Get R-JPEG version.\n",
       "Parameters\n",
       "    [in]h:DIRP API handle\n",
       "    [out]version: R-JPEG version information pointer\n",
       "Returns\n",
       "    int return code dirp_ret_code_e"
      ]
     },
     "execution_count": 10,
     "metadata": {},
     "output_type": "execute_result"
    }
   ],
   "source": [
    "nbdev.show_doc(dirp_get_rjpeg_version)"
   ]
  },
  {
   "cell_type": "code",
   "execution_count": 11,
   "metadata": {},
   "outputs": [
    {
     "data": {
      "text/markdown": [
       "---\n",
       "\n",
       "### dirp_rjpeg_version_t\n",
       "\n",
       "\n",
       "\n",
       "R-JPEG version structure definition"
      ],
      "text/plain": [
       "---\n",
       "\n",
       "### dirp_rjpeg_version_t\n",
       "\n",
       "\n",
       "\n",
       "R-JPEG version structure definition"
      ]
     },
     "execution_count": 11,
     "metadata": {},
     "output_type": "execute_result"
    }
   ],
   "source": [
    "nbdev.show_doc(dirp_rjpeg_version_t)"
   ]
  },
  {
   "cell_type": "code",
   "execution_count": 14,
   "metadata": {},
   "outputs": [
    {
     "name": "stdout",
     "output_type": "stream",
     "text": [
      "Success\n",
      "rjpeg:19\n",
      "header:1697986658\n",
      "curve:3367988\n"
     ]
    }
   ],
   "source": [
    "jpeg_version = dirp_rjpeg_version_t()\n",
    "ret = dirp_get_api_version(CT.byref(jpeg_version))\n",
    "if ret == DIRP_SUCCESS:\n",
    "    print(\"Success\")\n",
    "#\n",
    "print(f\"rjpeg:{jpeg_version.rjpeg}\")\n",
    "print(f\"header:{jpeg_version.header}\")\n",
    "print(f\"curve:{jpeg_version.curve}\")"
   ]
  },
  {
   "cell_type": "markdown",
   "metadata": {},
   "source": [
    "## Get Color Bar"
   ]
  },
  {
   "cell_type": "code",
   "execution_count": null,
   "metadata": {},
   "outputs": [
    {
     "data": {
      "text/markdown": [
       "<h4 id=\"dirp_get_color_bar\" class=\"doc_header\"><code>dirp_get_color_bar</code><a href=\"https://github.com/lyuhaitao/dji_thermal_sdk/tree/master/dji_thermal_sdk/dji_sdk.py#L205\" class=\"source_link\" style=\"float:right\">[source]</a></h4>\n",
       "\n",
       "> <code>dirp_get_color_bar</code>(**`h`**, **`color_bar`**)\n",
       "\n",
       "Parameters:\n",
       "    [in]  h: DIRP API handle\n",
       "    [out] color_bar: ISP color bar parameters pointer\n",
       "Return:\n",
       "    int return code dirp_ret_code_e"
      ],
      "text/plain": [
       "<IPython.core.display.Markdown object>"
      ]
     },
     "metadata": {},
     "output_type": "display_data"
    }
   ],
   "source": [
    "nbdev.show_doc(dirp_get_color_bar)"
   ]
  },
  {
   "cell_type": "code",
   "execution_count": null,
   "metadata": {},
   "outputs": [
    {
     "data": {
      "text/markdown": [
       "<h2 id=\"dirp_color_bar_t\" class=\"doc_header\"><code>class</code> <code>dirp_color_bar_t</code><a href=\"https://github.com/lyuhaitao/dji_thermal_sdk/tree/master/dji_thermal_sdk/dji_sdk.py#L74\" class=\"source_link\" style=\"float:right\">[source]</a></h2>\n",
       "\n",
       "> <code>dirp_color_bar_t</code>() :: `Structure`\n",
       "\n",
       "Color bar parameters structure definition"
      ],
      "text/plain": [
       "<IPython.core.display.Markdown object>"
      ]
     },
     "metadata": {},
     "output_type": "display_data"
    }
   ],
   "source": [
    "nbdev.show_doc(dirp_color_bar_t)"
   ]
  },
  {
   "cell_type": "code",
   "execution_count": null,
   "metadata": {},
   "outputs": [],
   "source": [
    "'''\n",
    "jpeg_color_bar = dirp_color_bar_t()\n",
    "ret = dirp_get_color_bar(DIRP_HANDLE, CT.byref(jpeg_color_bar))\n",
    "if ret == DIRP_SUCCESS:\n",
    "    print(\"Success\")\n",
    "print(f\"jpeg_color_bar.high: \\t {jpeg_color_bar.high}\")\n",
    "print(f\"jpeg_color_bar.low: \\t {jpeg_color_bar.low}\")\n",
    "print(f\"jpeg_color_bar.manual_enable: \\t {jpeg_color_bar.manual_enable}\")\n",
    "'''"
   ]
  },
  {
   "cell_type": "markdown",
   "metadata": {},
   "source": [
    "## Get the resolution of a R-JPEG image"
   ]
  },
  {
   "cell_type": "markdown",
   "metadata": {},
   "source": [
    "nbdev.show_doc(dirp_create_from_rjpeg)"
   ]
  },
  {
   "cell_type": "code",
   "execution_count": null,
   "metadata": {},
   "outputs": [
    {
     "data": {
      "text/markdown": [
       "<h4 id=\"dirp_get_rjpeg_resolution\" class=\"doc_header\"><code>dirp_get_rjpeg_resolution</code><a href=\"https://github.com/lyuhaitao/dji_thermal_sdk/tree/master/dji_thermal_sdk/dji_sdk.py#L336\" class=\"source_link\" style=\"float:right\">[source]</a></h4>\n",
       "\n",
       "> <code>dirp_get_rjpeg_resolution</code>(**`h`**, **`rjpeg_info`**)\n",
       "\n",
       "Get R-JPEG image resolution information.\n",
       "Parameters\n",
       "    [in]h: DIRP API handle\n",
       "    [out]rjpeg_info: R-JPEG basic information pointer\n",
       "Returns\n",
       "    int return code dirp_ret_code_e"
      ],
      "text/plain": [
       "<IPython.core.display.Markdown object>"
      ]
     },
     "metadata": {},
     "output_type": "display_data"
    }
   ],
   "source": [
    "nbdev.show_doc(dirp_get_rjpeg_resolution)"
   ]
  },
  {
   "cell_type": "code",
   "execution_count": null,
   "metadata": {},
   "outputs": [
    {
     "data": {
      "text/markdown": [
       "<h2 id=\"dirp_resolution_t\" class=\"doc_header\"><code>class</code> <code>dirp_resolution_t</code><a href=\"https://github.com/lyuhaitao/dji_thermal_sdk/tree/master/dji_thermal_sdk/dji_sdk.py#L133\" class=\"source_link\" style=\"float:right\">[source]</a></h2>\n",
       "\n",
       "> <code>dirp_resolution_t</code>() :: `Structure`\n",
       "\n",
       "The image size structure definition"
      ],
      "text/plain": [
       "<IPython.core.display.Markdown object>"
      ]
     },
     "metadata": {},
     "output_type": "display_data"
    }
   ],
   "source": [
    "nbdev.show_doc(dirp_resolution_t)"
   ]
  },
  {
   "cell_type": "code",
   "execution_count": null,
   "metadata": {},
   "outputs": [],
   "source": [
    "'''\n",
    "rjpeg_resolution = dirp_resolution_t()\n",
    "ret = dirp_get_rjpeg_resolution(DIRP_HANDLE, CT.byref(rjpeg_resolution))\n",
    "print(f'ret = {ret}')\n",
    "if ret == 0:\n",
    "    print(\"successfully get the resolution.\")\n",
    "\n",
    "out = f'Height: {rjpeg_resolution.height}, width: {rjpeg_resolution.width}'\n",
    "out\n",
    "'''"
   ]
  },
  {
   "cell_type": "markdown",
   "metadata": {},
   "source": [
    "## Set Pseudo Color"
   ]
  },
  {
   "cell_type": "code",
   "execution_count": null,
   "metadata": {},
   "outputs": [],
   "source": [
    "nbdev.show_doc(dirp_set_pseudo_color)"
   ]
  },
  {
   "cell_type": "code",
   "execution_count": null,
   "metadata": {},
   "outputs": [],
   "source": [
    "'''\n",
    "ret = dirp_set_pseudo_color(DIRP_HANDLE, c_int(0))\n",
    "if ret == DIRP_SUCCESS:\n",
    "    print(\"Success\")\n",
    "else:\n",
    "    print(f\"Error: ret={ret}\")\n",
    "'''"
   ]
  },
  {
   "cell_type": "markdown",
   "metadata": {},
   "source": [
    "## Transform a thermal image by a specific palette"
   ]
  },
  {
   "cell_type": "code",
   "execution_count": null,
   "metadata": {},
   "outputs": [],
   "source": [
    "nbdev.show_doc(dirp_process)"
   ]
  },
  {
   "cell_type": "code",
   "execution_count": null,
   "metadata": {},
   "outputs": [],
   "source": [
    "'''\n",
    "import matplotlib.pyplot as plt\n",
    "import numpy as np\n",
    "size = rjpeg_resolution.height * rjpeg_resolution.width * 3 * CT.sizeof(c_uint8)\n",
    "raw_image_buffer = CT.create_string_buffer(size)\n",
    "print(raw_image_buffer.raw[100])\n",
    "ret = dirp_process(DIRP_HANDLE,byref(raw_image_buffer), size)\n",
    "if ret == DIRP_SUCCESS:\n",
    "    print(\"Success\")\n",
    "else:\n",
    "    print(f\"Error: ret={ret}\")\n",
    "#\n",
    "raw_file_path = os.path.splitext(rd)[0] + \".raw\"\n",
    "print(raw_file_path)\n",
    "with open(raw_file_path, 'wb') as f:\n",
    "    f.write(raw_image_buffer.raw)\n",
    "#\n",
    "if os.path.exists(raw_file_path):\n",
    "    print(f\"Success! file size: {os.path.getsize(raw_file_path)}\")\n",
    "else:\n",
    "    print(\"Error\")\n",
    "#\n",
    "with open(raw_file_path, encoding='cp1252') as fin:\n",
    "    img = np.fromfile(fin, dtype = np.uint8)\n",
    "    print(img.shape)\n",
    "    img.shape = (512,640,3)\n",
    "    #original = Image.fromarray(img)\n",
    "#\n",
    "\n",
    "fig = plt.figure(figsize=(10,8))\n",
    "plt.imshow(img, cmap='gray')\n",
    "'''"
   ]
  }
 ],
 "metadata": {
  "kernelspec": {
   "display_name": "env_torch",
   "language": "python",
   "name": "env_torch"
  },
  "language_info": {
   "codemirror_mode": {
    "name": "ipython",
    "version": 3
   },
   "file_extension": ".py",
   "mimetype": "text/x-python",
   "name": "python",
   "nbconvert_exporter": "python",
   "pygments_lexer": "ipython3",
   "version": "3.8.13"
  }
 },
 "nbformat": 4,
 "nbformat_minor": 4
}
